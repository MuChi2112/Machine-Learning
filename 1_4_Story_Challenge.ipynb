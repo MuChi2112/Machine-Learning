{
  "nbformat": 4,
  "nbformat_minor": 0,
  "metadata": {
    "colab": {
      "name": "1.4_Story_Challenge.ipynb",
      "provenance": [],
      "include_colab_link": true
    },
    "kernelspec": {
      "name": "python3",
      "display_name": "Python 3"
    },
    "language_info": {
      "name": "python"
    }
  },
  "cells": [
    {
      "cell_type": "markdown",
      "metadata": {
        "id": "view-in-github",
        "colab_type": "text"
      },
      "source": [
        "<a href=\"https://colab.research.google.com/github/MuChi2112/Meshine-Learning/blob/main/1_4_Story_Challenge.ipynb\" target=\"_parent\"><img src=\"https://colab.research.google.com/assets/colab-badge.svg\" alt=\"Open In Colab\"/></a>"
      ]
    },
    {
      "cell_type": "markdown",
      "metadata": {
        "id": "pmgS0fuOYTwM"
      },
      "source": [
        "#Story Challenge\n",
        "\n",
        "In this notebook you will create a story that prints out to the user. You can use multiple print statements or one huge one, it's up to you!"
      ]
    },
    {
      "cell_type": "code",
      "metadata": {
        "id": "uwHRylCsYDFQ",
        "outputId": "47082279-71b9-4bb5-e2c1-53c66a7bf61a",
        "colab": {
          "base_uri": "https://localhost:8080/"
        }
      },
      "source": [
        "# Add your story code here:\n",
        "name = input(\"type the name\")\n",
        "print( name + \" went to the store.\")\n"
      ],
      "execution_count": 9,
      "outputs": [
        {
          "output_type": "stream",
          "name": "stdout",
          "text": [
            "type the nameChi\n",
            "Chi went to the store.\n"
          ]
        }
      ]
    },
    {
      "cell_type": "markdown",
      "metadata": {
        "id": "TpoPxHD2Yr4H"
      },
      "source": [
        "###Bonus Challenge\n",
        "\n",
        "If you want to step up your story, use user input and variables to create a mad libs style project.\n",
        "\n",
        "Get some verbs, nouns, adjectives, and names from the user and insert them into your story.\n"
      ]
    },
    {
      "cell_type": "code",
      "metadata": {
        "id": "ySlrVAXZY_Oh",
        "outputId": "48b2a02b-a24b-478b-b03d-97e70a4bf888",
        "colab": {
          "base_uri": "https://localhost:8080/"
        }
      },
      "source": [
        "# Get user input for the placeholder words. Make sure to save them to variables!\n",
        "name = input(\"type the name\")\n",
        "\n",
        "# Print out the updated story using the input from the user.\n",
        "print( name + \" went to the store.\")\n"
      ],
      "execution_count": 10,
      "outputs": [
        {
          "output_type": "stream",
          "name": "stdout",
          "text": [
            "type the namemu\n",
            "mu went to the store.\n"
          ]
        }
      ]
    },
    {
      "cell_type": "markdown",
      "metadata": {
        "id": "n3cMjYJqiM_h"
      },
      "source": [
        "###Extra Bonus Challenge\n",
        "\n",
        "Create a choose your own adventure story that gets user input to choose a path through the story. Use conditionals to print different stories depending on what the user wants to do."
      ]
    }
  ]
}
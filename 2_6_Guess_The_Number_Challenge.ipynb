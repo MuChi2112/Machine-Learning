{
  "nbformat": 4,
  "nbformat_minor": 0,
  "metadata": {
    "colab": {
      "name": "2.6_Guess_The_Number_Challenge.ipynb",
      "provenance": [],
      "include_colab_link": true
    },
    "kernelspec": {
      "name": "python3",
      "display_name": "Python 3"
    },
    "language_info": {
      "name": "python"
    }
  },
  "cells": [
    {
      "cell_type": "markdown",
      "metadata": {
        "id": "view-in-github",
        "colab_type": "text"
      },
      "source": [
        "<a href=\"https://colab.research.google.com/github/MuChi2112/Meshine-Learning/blob/main/2_6_Guess_The_Number_Challenge.ipynb\" target=\"_parent\"><img src=\"https://colab.research.google.com/assets/colab-badge.svg\" alt=\"Open In Colab\"/></a>"
      ]
    },
    {
      "cell_type": "markdown",
      "metadata": {
        "id": "E1BtiRZFTl8b"
      },
      "source": [
        "#Number Guessing Game\n",
        "\n",
        "In this notebook you are challenged to use your knowledge of loops, conditionals, input, random numbers, and printing to create a number guessing game.\n",
        "\n",
        "In this challenge, you'll be making a guess the number game. Your program will generate a random number and then ask the user to guess what it is.\n",
        "\n",
        "When they guess wrong, your program will tell them if they are too high or too low.\n",
        "\n",
        "###Core Freatures Breakdown\n",
        "- Generate a random number between 1 and 100.\n",
        "\n",
        "- Let the user guess what the number is until they get it right.\n",
        "\n",
        "- Give the user feedback after each guess- tell them if their guess is too high, too low, or just right.\n",
        "\n",
        "- Begin the game again.\n"
      ]
    },
    {
      "cell_type": "code",
      "metadata": {
        "id": "-j0-ot-5TlKw",
        "outputId": "67e61118-1bb0-4cab-9742-1ed634d6fe50",
        "colab": {
          "base_uri": "https://localhost:8080/"
        }
      },
      "source": [
        "# Add your code here:\n",
        "import random\n",
        "game=True\n",
        "small=0\n",
        "big=101\n",
        "guess=0\n",
        "number=random.randint(0,100)\n",
        "while game:\n",
        "  guess= input(\"What is the number?\")\n",
        "  if int(guess)== number:\n",
        "    print(\"You win\")\n",
        "    game=False\n",
        "  if int(guess)<number:\n",
        "    small=guess\n",
        "    print(str(small) + \"~\" + str(big))\n",
        "  if int(guess)>number:\n",
        "    big=guess\n",
        "    print(str(small) + \"~\" + str(big))\n"
      ],
      "execution_count": 6,
      "outputs": [
        {
          "output_type": "stream",
          "name": "stdout",
          "text": [
            "What is the number?50\n",
            "0~50\n",
            "What is the number?25\n",
            "25~50\n",
            "What is the number?35\n",
            "35~50\n",
            "What is the number?40\n",
            "40~50\n",
            "What is the number?45\n",
            "45~50\n",
            "What is the number?48\n",
            "You win\n"
          ]
        }
      ]
    },
    {
      "cell_type": "markdown",
      "metadata": {
        "id": "ogeubfG_UYxb"
      },
      "source": [
        "###Bonus Features\n",
        "\n",
        "- Create a variable to keep track of the number of gueses\n",
        "\n",
        "- Add another loop so that the game can be played a set number of times\n",
        "\n",
        "- Save all the number of guesses to a list, and tell the user what the best score is.\n",
        "\n",
        "- Add a second death number that the user is trying to avoid, and if the user guesses that number the game is over.\n",
        "\n",
        "- Add a function for code that you re-use often, like getting user input or generating the random number\n"
      ]
    }
  ]
}
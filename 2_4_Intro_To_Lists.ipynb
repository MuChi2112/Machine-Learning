{
  "nbformat": 4,
  "nbformat_minor": 0,
  "metadata": {
    "colab": {
      "name": "2.4_Intro_To_Lists.ipynb",
      "provenance": [],
      "toc_visible": true,
      "include_colab_link": true
    },
    "kernelspec": {
      "name": "python3",
      "display_name": "Python 3"
    },
    "language_info": {
      "name": "python"
    }
  },
  "cells": [
    {
      "cell_type": "markdown",
      "metadata": {
        "id": "view-in-github",
        "colab_type": "text"
      },
      "source": [
        "<a href=\"https://colab.research.google.com/github/MuChi2112/Meshine-Learning/blob/main/2_4_Intro_To_Lists.ipynb\" target=\"_parent\"><img src=\"https://colab.research.google.com/assets/colab-badge.svg\" alt=\"Open In Colab\"/></a>"
      ]
    },
    {
      "cell_type": "markdown",
      "metadata": {
        "id": "lNVz9o8q4zBK"
      },
      "source": [
        "#Intro to Lists\n",
        "\n",
        "So far you have learned how to save data of different types into variables. If you wanted to save multiple pieces of data, you would need to create multiple variables.\n",
        "\n",
        "Luckily, python has another data type called **Lists** that allow you to store a set of values under a single variable name.\n",
        "\n",
        "1. Run the cell below to create and print a list."
      ]
    },
    {
      "cell_type": "code",
      "metadata": {
        "id": "q_-TSiDv5RSg",
        "outputId": "13cd05f2-5122-4de7-eef2-c0dc2c2a1cab",
        "colab": {
          "base_uri": "https://localhost:8080/"
        }
      },
      "source": [
        "my_list = [3,2,6,1]\n",
        "\n",
        "print(my_list)"
      ],
      "execution_count": 1,
      "outputs": [
        {
          "output_type": "stream",
          "name": "stdout",
          "text": [
            "[3, 2, 6, 1]\n"
          ]
        }
      ]
    },
    {
      "cell_type": "markdown",
      "metadata": {
        "id": "1YizUvPeAujN"
      },
      "source": [
        "##Length of Lists\n",
        "\n",
        "Python has a built in function called **len()** to keep track of the length of a list.\n",
        "\n",
        "2. Run the cell below to print out the length of your list."
      ]
    },
    {
      "cell_type": "code",
      "metadata": {
        "id": "CAxorMlNA9KE",
        "outputId": "78c02caf-148c-42d9-8dcf-8bfeaf59da35",
        "colab": {
          "base_uri": "https://localhost:8080/"
        }
      },
      "source": [
        "print(len(my_list))"
      ],
      "execution_count": 2,
      "outputs": [
        {
          "output_type": "stream",
          "name": "stdout",
          "text": [
            "4\n"
          ]
        }
      ]
    },
    {
      "cell_type": "markdown",
      "metadata": {
        "id": "Wig7yv4m-teO"
      },
      "source": [
        "##Individual Elements\n",
        "\n",
        "If you want to look at a single element of a list, you can reference it using it's index. The index of an element in a list is it's location. Indices in a list start at 0.\n",
        "\n",
        "Run the cell below to see the first element of a list printed out."
      ]
    },
    {
      "cell_type": "code",
      "metadata": {
        "id": "dACQfWpl_DmC",
        "outputId": "f9eceb07-9240-483b-fd03-da9eba2c6d62",
        "colab": {
          "base_uri": "https://localhost:8080/"
        }
      },
      "source": [
        "print(my_list[0])"
      ],
      "execution_count": 3,
      "outputs": [
        {
          "output_type": "stream",
          "name": "stdout",
          "text": [
            "3\n"
          ]
        }
      ]
    },
    {
      "cell_type": "markdown",
      "metadata": {
        "id": "nDfLPzYo_Vm5"
      },
      "source": [
        "###Try This!\n",
        "\n",
        "Can you print out the third element in the list?\n"
      ]
    },
    {
      "cell_type": "code",
      "metadata": {
        "id": "HjKfortm_ZFL",
        "outputId": "999f0f6b-e982-4bfa-91e6-a8caf0b7c7ce",
        "colab": {
          "base_uri": "https://localhost:8080/"
        }
      },
      "source": [
        "# Add your code to print the third element of the list\n",
        "the_list=[1,7,45]\n",
        "print(the_list)"
      ],
      "execution_count": 6,
      "outputs": [
        {
          "output_type": "stream",
          "name": "stdout",
          "text": [
            "[1, 7, 45]\n"
          ]
        }
      ]
    },
    {
      "cell_type": "markdown",
      "metadata": {
        "id": "0NdA49S7_JKK"
      },
      "source": [
        "What if you wanted to edit the data in a list? Let's say you want to change the third element into the number 8. How would you do it?"
      ]
    },
    {
      "cell_type": "code",
      "metadata": {
        "id": "fXbMPGqQ_dfl",
        "outputId": "fea2a528-8bc3-4dbf-a8fc-68d98beb3057",
        "colab": {
          "base_uri": "https://localhost:8080/"
        }
      },
      "source": [
        "# Update the third element\n",
        "my_list[2] = 8\n",
        "# Print the list\n",
        "print(my_list)"
      ],
      "execution_count": 7,
      "outputs": [
        {
          "output_type": "stream",
          "name": "stdout",
          "text": [
            "[3, 2, 8, 1]\n"
          ]
        }
      ]
    },
    {
      "cell_type": "markdown",
      "metadata": {
        "id": "jATf-RLq_iko"
      },
      "source": [
        "Remember the indices of a list start at 0 so the third element is at index 2.\n",
        "\n",
        "###Try This!\n",
        "Can you update the last element of your list to the number 7?\n"
      ]
    },
    {
      "cell_type": "code",
      "metadata": {
        "id": "obAK3Rah_v0O",
        "outputId": "08d62845-7186-49f9-8645-fcca7c87bee3",
        "colab": {
          "base_uri": "https://localhost:8080/"
        }
      },
      "source": [
        "# Add your code here\n",
        "the_list=[1,7,45]\n",
        "print(the_list[0])\n"
      ],
      "execution_count": 9,
      "outputs": [
        {
          "output_type": "stream",
          "name": "stdout",
          "text": [
            "1\n"
          ]
        }
      ]
    },
    {
      "cell_type": "markdown",
      "metadata": {
        "id": "skKLwK-W_6TU"
      },
      "source": [
        "##Looping Through a List\n",
        "\n",
        "Imagine that you have a list of cookies that you and a group of friends have eaten.\n",
        "\n",
        "Then, you hand everyone a cookie and they eat it. You would need to add one to each person's cookie count. How would you do this?\n",
        "\n",
        "You can create a for loop to go through each element in the list, and add one.\n",
        "\n",
        "note: in this for loop, you will use the **len()** function to get the length of the list.\n",
        "\n",
        "1. Run the code cell below to see it in action."
      ]
    },
    {
      "cell_type": "code",
      "metadata": {
        "id": "OKwPClh-AMv8",
        "outputId": "d039fad6-d411-4118-8619-cb3935b4d184",
        "colab": {
          "base_uri": "https://localhost:8080/"
        }
      },
      "source": [
        "# Create the cookie count list\n",
        "cookie_count = [2, 3, 1, 5, 10]\n",
        "# Print the cookie count list\n",
        "print(cookie_count)\n",
        "\n",
        "# Loop through the list\n",
        "for x in range(len(cookie_count)):\n",
        "  # Add one to the element at index x\n",
        "  cookie_count[x] += 1\n",
        "# Print the updated list\n",
        "print(cookie_count)\n"
      ],
      "execution_count": 10,
      "outputs": [
        {
          "output_type": "stream",
          "name": "stdout",
          "text": [
            "[2, 3, 1, 5, 10]\n",
            "[3, 4, 2, 6, 11]\n"
          ]
        }
      ]
    },
    {
      "cell_type": "markdown",
      "metadata": {
        "id": "rT_c62ahBVSg"
      },
      "source": [
        "For loops are especially useful when you want to look at each element in a list, and do something to it.\n",
        "\n",
        "###Try This!\n",
        "\n",
        "Can you make a for loop that adds two to each element in a list?"
      ]
    },
    {
      "cell_type": "code",
      "metadata": {
        "id": "vo-EyCkjBiGd",
        "outputId": "3020aff6-5c36-40ea-9ef5-121c372711ed",
        "colab": {
          "base_uri": "https://localhost:8080/"
        }
      },
      "source": [
        "# Add your code to loop through your list and add two to each element\n",
        "\n",
        "the_list=[1,7,45]\n",
        "for x in range(len(the_list)):\n",
        "  print(the_list[x])"
      ],
      "execution_count": 13,
      "outputs": [
        {
          "output_type": "stream",
          "name": "stdout",
          "text": [
            "1\n",
            "7\n",
            "45\n"
          ]
        }
      ]
    },
    {
      "cell_type": "markdown",
      "metadata": {
        "id": "7iYD6_jH6fGM"
      },
      "source": [
        "##Python For Loop Tricks\n",
        "\n",
        "If you have some data saved to a list, you can easily step through it. For example, look at this list of fruits and how you can loop through it.\n"
      ]
    },
    {
      "cell_type": "code",
      "metadata": {
        "id": "mC3f8cBI7g-c",
        "outputId": "a84f6d77-178d-4db6-c725-0548d1fdb90f",
        "colab": {
          "base_uri": "https://localhost:8080/"
        }
      },
      "source": [
        "fruits = ['apple', 'orange', 'banana', 'grape']\n",
        "\n",
        "for fruit in fruits:\n",
        "  print(\"the fruit is \" + fruit)"
      ],
      "execution_count": 14,
      "outputs": [
        {
          "output_type": "stream",
          "name": "stdout",
          "text": [
            "the fruit is apple\n",
            "the fruit is orange\n",
            "the fruit is banana\n",
            "the fruit is grape\n"
          ]
        }
      ]
    },
    {
      "cell_type": "markdown",
      "metadata": {
        "id": "n-5lonpy8P7K"
      },
      "source": [
        "Instead of using the for x in range format, you can step through any data type using this kind of for loop.\n"
      ]
    },
    {
      "cell_type": "markdown",
      "metadata": {
        "id": "SlnxAwKUCu7j"
      },
      "source": [
        "##Conditionals and Loops\n",
        "\n",
        "There are also some useful conditionals that can be used with lists and for loops.\n",
        "\n",
        "One such conditional is ```in``` . You can use this to check if an element is in a list.\n",
        "\n",
        " 1. Run the cell below to see a demonstration"
      ]
    },
    {
      "cell_type": "code",
      "metadata": {
        "id": "EiCfs9F2CMxy",
        "outputId": "d98c5bb0-cbd9-46d7-ff57-3defab459fb6",
        "colab": {
          "base_uri": "https://localhost:8080/"
        }
      },
      "source": [
        "print('apple' in fruits)\n",
        "\n",
        "print('tomato' in fruits)"
      ],
      "execution_count": 15,
      "outputs": [
        {
          "output_type": "stream",
          "name": "stdout",
          "text": [
            "True\n",
            "False\n"
          ]
        }
      ]
    },
    {
      "cell_type": "markdown",
      "metadata": {
        "id": "j8Jcc6SPCcaj"
      },
      "source": [
        "You can use this condition to check if elements are present in a list.\n",
        "\n",
        "###Try this!\n",
        "\n",
        "Can you figure out which elements in the vegetable list do not belong?"
      ]
    },
    {
      "cell_type": "code",
      "metadata": {
        "id": "lce43JgHEekJ",
        "outputId": "3bb2a274-d8b6-46be-8828-ef87c245191f",
        "colab": {
          "base_uri": "https://localhost:8080/"
        }
      },
      "source": [
        "veggies = ['broccoli', 'lettuce', 'banana', 'potato', 'squash']\n",
        "# Add your code to check which elements do not belong\n",
        "for veggie in veggies:\n",
        "  print(\"the veggie is \" + veggie)"
      ],
      "execution_count": 17,
      "outputs": [
        {
          "output_type": "stream",
          "name": "stdout",
          "text": [
            "the veggie is broccoli\n",
            "the veggie is lettuce\n",
            "the veggie is banana\n",
            "the veggie is potato\n",
            "the veggie is squash\n"
          ]
        }
      ]
    },
    {
      "cell_type": "markdown",
      "metadata": {
        "id": "8YIdndFZErDe"
      },
      "source": [
        "<details>\n",
        "<summary> Click this for an example </summary>\n",
        "\n",
        "```\n",
        "for veggie in veggies:\n",
        "  if veggie in fruits:\n",
        "    print(veggie + \" is not a vegetable\")\n",
        "\n",
        "\n",
        "```\n",
        "\n",
        "\n",
        "</details>"
      ]
    }
  ]
}